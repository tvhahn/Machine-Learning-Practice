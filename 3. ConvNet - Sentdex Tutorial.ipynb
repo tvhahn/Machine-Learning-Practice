{
 "cells": [
  {
   "cell_type": "markdown",
   "metadata": {},
   "source": [
    "https://youtu.be/WvoLTXIjBYU\n",
    "\n",
    "Playlist from Sentdex: https://www.youtube.com/watch?v=j-3vuBynnOE&list=PLQVvvaa0QuDfhTox0AjmQ6tvTgMBZBEXN&index=2"
   ]
  },
  {
   "cell_type": "code",
   "execution_count": 1,
   "metadata": {},
   "outputs": [
    {
     "name": "stdout",
     "output_type": "stream",
     "text": [
      "Train on 22451 samples, validate on 2495 samples\n",
      "Epoch 1/10\n",
      "22451/22451 [==============================] - 7s 293us/step - loss: 0.6300 - acc: 0.6449 - val_loss: 0.5447 - val_acc: 0.7287\n",
      "Epoch 2/10\n",
      "22451/22451 [==============================] - 6s 246us/step - loss: 0.5402 - acc: 0.7291 - val_loss: 0.4919 - val_acc: 0.7699\n",
      "Epoch 3/10\n",
      "22451/22451 [==============================] - 5s 236us/step - loss: 0.4966 - acc: 0.7632 - val_loss: 0.4556 - val_acc: 0.7876\n",
      "Epoch 4/10\n",
      "22451/22451 [==============================] - 5s 239us/step - loss: 0.4612 - acc: 0.7868 - val_loss: 0.4552 - val_acc: 0.7892\n",
      "Epoch 5/10\n",
      "22451/22451 [==============================] - 5s 235us/step - loss: 0.4351 - acc: 0.8006 - val_loss: 0.4276 - val_acc: 0.8044\n",
      "Epoch 6/10\n",
      "22451/22451 [==============================] - 5s 239us/step - loss: 0.4180 - acc: 0.8080 - val_loss: 0.4588 - val_acc: 0.7852\n",
      "Epoch 7/10\n",
      "22451/22451 [==============================] - 6s 262us/step - loss: 0.4016 - acc: 0.8177 - val_loss: 0.4130 - val_acc: 0.8092\n",
      "Epoch 8/10\n",
      "22451/22451 [==============================] - 6s 253us/step - loss: 0.3842 - acc: 0.8273 - val_loss: 0.4317 - val_acc: 0.8032\n",
      "Epoch 9/10\n",
      "22451/22451 [==============================] - 6s 249us/step - loss: 0.3712 - acc: 0.8344 - val_loss: 0.4302 - val_acc: 0.8100\n",
      "Epoch 10/10\n",
      "22451/22451 [==============================] - 5s 243us/step - loss: 0.3627 - acc: 0.8390 - val_loss: 0.4515 - val_acc: 0.8036\n"
     ]
    },
    {
     "data": {
      "text/plain": [
       "<tensorflow.python.keras.callbacks.History at 0x7f024ee08c88>"
      ]
     },
     "execution_count": 1,
     "metadata": {},
     "output_type": "execute_result"
    }
   ],
   "source": [
    "import tensorflow as tf\n",
    "from tensorflow.keras.models import Sequential\n",
    "from tensorflow.keras.layers import Dense, Dropout, Activation, Flatten, Conv2D, MaxPooling2D\n",
    "import pickle\n",
    "%matplotlib inline\n",
    "\n",
    "pickle_X = open(\"/home/tim/Documents/Data/X.pickle\",\"rb\")\n",
    "X = pickle.load(pickle_X)\n",
    "\n",
    "pickle_y = open(\"/home/tim/Documents/Data/y.pickle\",\"rb\")\n",
    "y = pickle.load(pickle_y)\n",
    "\n",
    "X = X/255.0\n",
    "\n",
    "model = Sequential()\n",
    "model.add(  Conv2D(64, (3,3), input_shape = X.shape[1:])  )\n",
    "model.add(Activation(\"relu\"))\n",
    "model.add(MaxPooling2D(pool_size=(2,2)))\n",
    "\n",
    "model.add(  Conv2D(64, (3,3))  )\n",
    "model.add(Activation(\"relu\"))\n",
    "model.add(MaxPooling2D(pool_size=(2,2)))\n",
    "\n",
    "model.add(Flatten())\n",
    "model.add(Dense(64))\n",
    "\n",
    "model.add(Dense(1))\n",
    "model.add(Activation('sigmoid'))\n",
    "\n",
    "model.compile(loss=\"binary_crossentropy\",\n",
    "             optimizer=\"adam\",\n",
    "             metrics=['accuracy'])\n",
    "\n",
    "model.fit(X, y, batch_size=32, epochs=10, validation_split=0.1)"
   ]
  },
  {
   "cell_type": "code",
   "execution_count": null,
   "metadata": {},
   "outputs": [],
   "source": []
  }
 ],
 "metadata": {
  "kernelspec": {
   "display_name": "Python 3",
   "language": "python",
   "name": "python3"
  },
  "language_info": {
   "codemirror_mode": {
    "name": "ipython",
    "version": 3
   },
   "file_extension": ".py",
   "mimetype": "text/x-python",
   "name": "python",
   "nbconvert_exporter": "python",
   "pygments_lexer": "ipython3",
   "version": "3.6.8"
  }
 },
 "nbformat": 4,
 "nbformat_minor": 2
}
