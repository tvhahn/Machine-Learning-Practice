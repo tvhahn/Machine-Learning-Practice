{
 "cells": [
  {
   "cell_type": "markdown",
   "metadata": {},
   "source": [
    "https://youtu.be/BqgTU7_cBnk\n",
    "\n",
    "Playlist from Sentdex: https://www.youtube.com/watch?v=j-3vuBynnOE&list=PLQVvvaa0QuDfhTox0AjmQ6tvTgMBZBEXN&index=2"
   ]
  },
  {
   "cell_type": "code",
   "execution_count": 4,
   "metadata": {},
   "outputs": [
    {
     "name": "stdout",
     "output_type": "stream",
     "text": [
      "Train on 17462 samples, validate on 7484 samples\n",
      "Epoch 1/20\n",
      "17462/17462 [==============================] - 5s 273us/step - loss: 0.6276 - acc: 0.6438 - val_loss: 0.5848 - val_acc: 0.7016\n",
      "Epoch 2/20\n",
      "17462/17462 [==============================] - 5s 264us/step - loss: 0.5439 - acc: 0.7273 - val_loss: 0.5140 - val_acc: 0.7567\n",
      "Epoch 3/20\n",
      "17462/17462 [==============================] - 5s 262us/step - loss: 0.5001 - acc: 0.7569 - val_loss: 0.4875 - val_acc: 0.7715\n",
      "Epoch 4/20\n",
      "17462/17462 [==============================] - 5s 264us/step - loss: 0.4724 - acc: 0.7762 - val_loss: 0.4819 - val_acc: 0.7716\n",
      "Epoch 5/20\n",
      "17462/17462 [==============================] - 5s 259us/step - loss: 0.4524 - acc: 0.7896 - val_loss: 0.5030 - val_acc: 0.7525\n",
      "Epoch 6/20\n",
      "17462/17462 [==============================] - 4s 253us/step - loss: 0.4338 - acc: 0.8009 - val_loss: 0.4712 - val_acc: 0.7785\n",
      "Epoch 7/20\n",
      "17462/17462 [==============================] - 4s 253us/step - loss: 0.4184 - acc: 0.8124 - val_loss: 0.4495 - val_acc: 0.7922\n",
      "Epoch 8/20\n",
      "17462/17462 [==============================] - 5s 264us/step - loss: 0.3997 - acc: 0.8209 - val_loss: 0.4725 - val_acc: 0.7785\n",
      "Epoch 9/20\n",
      "17462/17462 [==============================] - 5s 271us/step - loss: 0.3823 - acc: 0.8280 - val_loss: 0.4543 - val_acc: 0.7909\n",
      "Epoch 10/20\n",
      "17462/17462 [==============================] - 5s 260us/step - loss: 0.3658 - acc: 0.8397 - val_loss: 0.4527 - val_acc: 0.7894\n",
      "Epoch 11/20\n",
      "17462/17462 [==============================] - 5s 270us/step - loss: 0.3536 - acc: 0.8461 - val_loss: 0.4548 - val_acc: 0.7906\n",
      "Epoch 12/20\n",
      "17462/17462 [==============================] - 5s 260us/step - loss: 0.3342 - acc: 0.8548 - val_loss: 0.4582 - val_acc: 0.7921\n",
      "Epoch 13/20\n",
      "17462/17462 [==============================] - 5s 264us/step - loss: 0.3200 - acc: 0.8630 - val_loss: 0.4472 - val_acc: 0.7945\n",
      "Epoch 14/20\n",
      "17462/17462 [==============================] - 4s 251us/step - loss: 0.3071 - acc: 0.8686 - val_loss: 0.4652 - val_acc: 0.7981\n",
      "Epoch 15/20\n",
      "17462/17462 [==============================] - 5s 269us/step - loss: 0.2957 - acc: 0.8750 - val_loss: 0.4753 - val_acc: 0.7910\n",
      "Epoch 16/20\n",
      "17462/17462 [==============================] - 5s 283us/step - loss: 0.2809 - acc: 0.8787 - val_loss: 0.4780 - val_acc: 0.7948\n",
      "Epoch 17/20\n",
      "17462/17462 [==============================] - 5s 274us/step - loss: 0.2701 - acc: 0.8884 - val_loss: 0.4867 - val_acc: 0.7874\n",
      "Epoch 18/20\n",
      "17462/17462 [==============================] - 5s 266us/step - loss: 0.2571 - acc: 0.8923 - val_loss: 0.4945 - val_acc: 0.7890\n",
      "Epoch 19/20\n",
      "17462/17462 [==============================] - 4s 258us/step - loss: 0.2420 - acc: 0.9002 - val_loss: 0.5018 - val_acc: 0.7913\n",
      "Epoch 20/20\n",
      "17462/17462 [==============================] - 4s 254us/step - loss: 0.2408 - acc: 0.9008 - val_loss: 0.4949 - val_acc: 0.7982\n"
     ]
    },
    {
     "data": {
      "text/plain": [
       "<tensorflow.python.keras.callbacks.History at 0x7ff261f01470>"
      ]
     },
     "execution_count": 4,
     "metadata": {},
     "output_type": "execute_result"
    }
   ],
   "source": [
    "import tensorflow as tf\n",
    "from tensorflow.keras.datasets import cifar10\n",
    "from tensorflow.keras.models import Sequential\n",
    "from tensorflow.keras.layers import Dense, Dropout, Activation, Flatten, Conv2D, MaxPooling2D\n",
    "from tensorflow.keras.callbacks import TensorBoard\n",
    "import pickle\n",
    "import time\n",
    "%matplotlib inline\n",
    "\n",
    "NAME = \"Cats-vs-dogs-cnn-64x2-{}\".format(int(time.time()))\n",
    "\n",
    "tensorbard = TensorBoard(log_dir='logs/{}'.format(NAME))\n",
    "\n",
    "\n",
    "pickle_X = open(\"/home/tim/Documents/Data/X.pickle\",\"rb\")\n",
    "X = pickle.load(pickle_X)\n",
    "\n",
    "pickle_y = open(\"/home/tim/Documents/Data/y.pickle\",\"rb\")\n",
    "y = pickle.load(pickle_y)\n",
    "\n",
    "X = X/255.0\n",
    "\n",
    "model = Sequential()\n",
    "model.add(  Conv2D(64, (3,3), input_shape = X.shape[1:])  )\n",
    "model.add(Activation(\"relu\"))\n",
    "model.add(MaxPooling2D(pool_size=(2,2)))\n",
    "\n",
    "model.add(  Conv2D(64, (3,3))  )\n",
    "model.add(Activation(\"relu\"))\n",
    "model.add(MaxPooling2D(pool_size=(2,2)))\n",
    "\n",
    "model.add(Flatten()) # converts our 3D feature maps into 1D feature vectors\n",
    "\n",
    "# model.add(Dense(64))\n",
    "# model.add(Activation(\"relu\"))\n",
    "\n",
    "model.add(Dense(1))\n",
    "model.add(Activation('sigmoid'))\n",
    "\n",
    "model.compile(loss=\"binary_crossentropy\",\n",
    "             optimizer=\"adam\",\n",
    "             metrics=['accuracy'])\n",
    "\n",
    "model.fit(X, y, batch_size=32, epochs=20, validation_split=0.3, callbacks=[tensorbard])"
   ]
  },
  {
   "cell_type": "markdown",
   "metadata": {},
   "source": [
    "tensorboard --loir=logs/"
   ]
  },
  {
   "cell_type": "code",
   "execution_count": null,
   "metadata": {},
   "outputs": [],
   "source": []
  }
 ],
 "metadata": {
  "kernelspec": {
   "display_name": "Python 3",
   "language": "python",
   "name": "python3"
  },
  "language_info": {
   "codemirror_mode": {
    "name": "ipython",
    "version": 3
   },
   "file_extension": ".py",
   "mimetype": "text/x-python",
   "name": "python",
   "nbconvert_exporter": "python",
   "pygments_lexer": "ipython3",
   "version": "3.6.8"
  }
 },
 "nbformat": 4,
 "nbformat_minor": 2
}
