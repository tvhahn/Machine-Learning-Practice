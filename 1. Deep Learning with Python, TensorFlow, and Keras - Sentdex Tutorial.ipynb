{
 "cells": [
  {
   "cell_type": "markdown",
   "metadata": {},
   "source": [
    "https://youtu.be/wQ8BIBpya2k"
   ]
  },
  {
   "cell_type": "code",
   "execution_count": 1,
   "metadata": {},
   "outputs": [],
   "source": [
    "import tensorflow as tf\n",
    "import matplotlib.pyplot as plt\n",
    "import numpy as np\n",
    "\n",
    "# Import mnist dataset of digits\n",
    "mnist = tf.keras.datasets.mnist"
   ]
  },
  {
   "cell_type": "code",
   "execution_count": 2,
   "metadata": {},
   "outputs": [],
   "source": [
    "(x_train, y_train), (x_test, y_test) = mnist.load_data()\n",
    "\n",
    "# Scale the data\n",
    "x_train = tf.keras.utils.normalize(x_train, axis=1)\n",
    "x_test = tf.keras.utils.normalize(x_test, axis=1)\n",
    "\n"
   ]
  },
  {
   "cell_type": "code",
   "execution_count": null,
   "metadata": {},
   "outputs": [],
   "source": [
    "# Use sequential model\n",
    "model = tf.keras.models.Sequential()\n",
    "model.add(tf.keras.layers.Flatten()) # Flatten layer, rather than use numpy reshape\n",
    "model.add(tf.keras.layers.Dense(128, activation=tf.nn.relu)) # Dense layer, 128 units (neurons), rectified linear activation fnc\n",
    "model.add(tf.keras.layers.Dense(128, activation=tf.nn.relu)) # Second layer\n",
    "model.add(tf.keras.layers.Dense(10, activation=tf.nn.softmax)) # Output layer, softmax as probability distribution\n",
    "\n",
    "# Parameters for training the model\n",
    "model.compile(optimizer='adam',\n",
    "             loss='sparse_categorical_crossentropy',\n",
    "             metrics=['accuracy']) # could use binary_categorical_crossentropy for binary classification\n",
    "\n",
    "# Train model\n",
    "model.fit(x_train, y_train, epochs=3)"
   ]
  },
  {
   "cell_type": "code",
   "execution_count": null,
   "metadata": {},
   "outputs": [],
   "source": [
    "val_loss, val_acc = model.evaluate(x_test, y_test)\n",
    "print(val_loss, val_acc)"
   ]
  },
  {
   "cell_type": "code",
   "execution_count": null,
   "metadata": {},
   "outputs": [],
   "source": [
    "# Show a sample impage\n",
    "plt.imshow(x_train[0], cmap='Greys_r')\n",
    "plt.show()"
   ]
  },
  {
   "cell_type": "code",
   "execution_count": null,
   "metadata": {},
   "outputs": [],
   "source": [
    "# Save the model tf.keras.models.save_model\n",
    "# https://www.tensorflow.org/api_docs/python/tf/keras/models/save_model\n",
    "tf.keras.models.save_model(model, 'epic_num_reader.model',overwrite=True)"
   ]
  },
  {
   "cell_type": "code",
   "execution_count": 9,
   "metadata": {},
   "outputs": [],
   "source": [
    "# Load model with tf.keras.models.load_model\n",
    "new_model = tf.keras.models.load_model('epic_num_reader.model',compile=False)"
   ]
  },
  {
   "cell_type": "code",
   "execution_count": 10,
   "metadata": {},
   "outputs": [],
   "source": [
    "# Get predictions\n",
    "predictions = new_model.predict(x_test)"
   ]
  },
  {
   "cell_type": "code",
   "execution_count": 11,
   "metadata": {},
   "outputs": [
    {
     "name": "stdout",
     "output_type": "stream",
     "text": [
      "[[8.05854139e-09 8.74029737e-08 2.04835505e-05 ... 9.99975681e-01\n",
      "  9.66938742e-08 6.32725460e-07]\n",
      " [5.98047265e-08 4.82808711e-04 9.99513745e-01 ... 8.76619932e-09\n",
      "  1.07132280e-06 3.06389289e-11]\n",
      " [3.08045401e-07 9.99680042e-01 1.03460889e-06 ... 2.12405921e-05\n",
      "  4.22021403e-05 1.45763738e-06]\n",
      " ...\n",
      " [2.88738455e-09 1.00229315e-07 6.59273525e-08 ... 8.28222164e-06\n",
      "  7.68194695e-06 6.99918019e-05]\n",
      " [4.22212487e-09 4.36558167e-09 6.93266486e-11 ... 4.14066503e-10\n",
      "  1.97409408e-05 2.63680828e-08]\n",
      " [2.04479556e-06 3.63225645e-08 3.76662769e-07 ... 6.44564235e-10\n",
      "  2.22520612e-06 4.37258052e-08]]\n"
     ]
    }
   ],
   "source": [
    "print(predictions)"
   ]
  },
  {
   "cell_type": "code",
   "execution_count": 7,
   "metadata": {},
   "outputs": [
    {
     "name": "stdout",
     "output_type": "stream",
     "text": [
      "7\n"
     ]
    }
   ],
   "source": [
    "print(np.argmax(predictions[0]))"
   ]
  },
  {
   "cell_type": "code",
   "execution_count": 8,
   "metadata": {},
   "outputs": [
    {
     "data": {
      "image/png": "[encoded data removed]",
      "text/plain": [
       "<Figure size 432x288 with 1 Axes>"
      ]
     },
     "metadata": {
      "needs_background": "light"
     },
     "output_type": "display_data"
    }
   ],
   "source": [
    "plt.imshow(x_test[0])\n",
    "plt.show()"
   ]
  },
  {
   "cell_type": "code",
   "execution_count": null,
   "metadata": {},
   "outputs": [],
   "source": []
  }
 ],
 "metadata": {
  "kernelspec": {
   "display_name": "Python 3",
   "language": "python",
   "name": "python3"
  },
  "language_info": {
   "codemirror_mode": {
    "name": "ipython",
    "version": 3
   },
   "file_extension": ".py",
   "mimetype": "text/x-python",
   "name": "python",
   "nbconvert_exporter": "python",
   "pygments_lexer": "ipython3",
   "version": "3.6.8"
  }
 },
 "nbformat": 4,
 "nbformat_minor": 2
}
