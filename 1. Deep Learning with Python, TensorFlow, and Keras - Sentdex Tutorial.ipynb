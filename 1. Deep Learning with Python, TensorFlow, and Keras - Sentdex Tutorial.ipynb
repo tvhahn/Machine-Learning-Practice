{
 "cells": [
  {
   "cell_type": "markdown",
   "metadata": {},
   "source": [
    "https://youtu.be/wQ8BIBpya2k"
   ]
  },
  {
   "cell_type": "code",
   "execution_count": 10,
   "metadata": {},
   "outputs": [],
   "source": [
    "import tensorflow as tf\n",
    "import matplotlib.pyplot as plt\n",
    "import numpy as np\n",
    "\n",
    "# Import mnist dataset of digits\n",
    "mnist = tf.keras.datasets.mnist"
   ]
  },
  {
   "cell_type": "code",
   "execution_count": 2,
   "metadata": {},
   "outputs": [
    {
     "name": "stdout",
     "output_type": "stream",
     "text": [
      "Epoch 1/3\n",
      "60000/60000 [==============================] - 3s 58us/step - loss: 0.2578 - acc: 0.9249\n",
      "Epoch 2/3\n",
      "60000/60000 [==============================] - 3s 54us/step - loss: 0.1065 - acc: 0.9669\n",
      "Epoch 3/3\n",
      "60000/60000 [==============================] - 3s 53us/step - loss: 0.0734 - acc: 0.9766\n"
     ]
    },
    {
     "data": {
      "text/plain": [
       "<tensorflow.python.keras.callbacks.History at 0x1c4ac190ac8>"
      ]
     },
     "execution_count": 2,
     "metadata": {},
     "output_type": "execute_result"
    }
   ],
   "source": [
    "(x_train, y_train), (x_test, y_test) = mnist.load_data()\n",
    "\n",
    "# Scale the data\n",
    "x_train = tf.keras.utils.normalize(x_train, axis=1)\n",
    "x_test = tf.keras.utils.normalize(x_test, axis=1)\n",
    "\n",
    "# Use sequential model\n",
    "model = tf.keras.models.Sequential()\n",
    "model.add(tf.keras.layers.Flatten()) # Flatten layer, rather than use numpy reshape\n",
    "model.add(tf.keras.layers.Dense(128, activation=tf.nn.relu)) # Dense layer, 128 units (neurons), rectified linear activation fnc\n",
    "model.add(tf.keras.layers.Dense(128, activation=tf.nn.relu)) # Second layer\n",
    "model.add(tf.keras.layers.Dense(10, activation=tf.nn.softmax)) # Output layer, softmax as probability distribution\n",
    "\n",
    "# Parameters for training the model\n",
    "model.compile(optimizer='adam',\n",
    "             loss='sparse_categorical_crossentropy',\n",
    "             metrics=['accuracy'])\n",
    "\n",
    "# Train model\n",
    "model.fit(x_train, y_train, epochs=3)"
   ]
  },
  {
   "cell_type": "code",
   "execution_count": 3,
   "metadata": {},
   "outputs": [
    {
     "name": "stdout",
     "output_type": "stream",
     "text": [
      "10000/10000 [==============================] - 0s 22us/step\n",
      "0.09035177694400773 0.9728\n"
     ]
    }
   ],
   "source": [
    "val_loss, val_acc = model.evaluate(x_test, y_test)\n",
    "print(val_loss, val_acc)"
   ]
  },
  {
   "cell_type": "code",
   "execution_count": 4,
   "metadata": {},
   "outputs": [
    {
     "data": {
      "image/png": "[encoded data removed]",
      "text/plain": [
       "<Figure size 432x288 with 1 Axes>"
      ]
     },
     "metadata": {},
     "output_type": "display_data"
    }
   ],
   "source": [
    "# Show a sample impage\n",
    "plt.imshow(x_train[0], cmap='Greys_r')\n",
    "plt.show()"
   ]
  },
  {
   "cell_type": "code",
   "execution_count": 5,
   "metadata": {},
   "outputs": [],
   "source": [
    "# Save the model\n",
    "# model.save('epic_num_reader.model',overwrite=True) # Does not appear to be working in TF 1.11"
   ]
  },
  {
   "cell_type": "code",
   "execution_count": 7,
   "metadata": {},
   "outputs": [],
   "source": [
    "# Load model\n",
    "new_model = tf.keras.models.load_model('epic_num_reader.model')"
   ]
  },
  {
   "cell_type": "code",
   "execution_count": 8,
   "metadata": {},
   "outputs": [],
   "source": [
    "# Get predictions\n",
    "predictions = new_model.predict([x_test])"
   ]
  },
  {
   "cell_type": "code",
   "execution_count": 9,
   "metadata": {},
   "outputs": [
    {
     "name": "stdout",
     "output_type": "stream",
     "text": [
      "[[1.88999802e-08 2.47042209e-07 5.29780111e-04 ... 9.99399662e-01\n",
      "  1.08888651e-06 5.12877456e-08]\n",
      " [2.97073303e-11 1.79405836e-03 9.98175025e-01 ... 3.11491760e-07\n",
      "  1.37136794e-06 2.00847478e-10]\n",
      " [7.27115832e-07 9.99881744e-01 1.04910032e-05 ... 8.55495236e-05\n",
      "  1.08305394e-05 1.08318190e-07]\n",
      " ...\n",
      " [6.57680403e-07 1.05236895e-05 9.86409646e-07 ... 6.90770510e-04\n",
      "  1.99448532e-05 4.98821086e-04]\n",
      " [9.56408694e-05 1.82490010e-04 1.42403733e-05 ... 3.06524962e-05\n",
      "  5.70899481e-03 2.65013767e-07]\n",
      " [1.22502428e-07 1.52857226e-07 5.47832855e-08 ... 9.81624851e-11\n",
      "  2.22379867e-07 1.87999127e-09]]\n"
     ]
    }
   ],
   "source": [
    "print(predictions)"
   ]
  },
  {
   "cell_type": "code",
   "execution_count": 11,
   "metadata": {},
   "outputs": [
    {
     "name": "stdout",
     "output_type": "stream",
     "text": [
      "7\n"
     ]
    }
   ],
   "source": [
    "print(np.argmax(predictions[0]))"
   ]
  },
  {
   "cell_type": "code",
   "execution_count": 12,
   "metadata": {},
   "outputs": [
    {
     "data": {
      "image/png": "[encoded data removed]",
      "text/plain": [
       "<Figure size 432x288 with 1 Axes>"
      ]
     },
     "metadata": {},
     "output_type": "display_data"
    }
   ],
   "source": [
    "plt.imshow(x_test[0])\n",
    "plt.show()"
   ]
  },
  {
   "cell_type": "code",
   "execution_count": null,
   "metadata": {},
   "outputs": [],
   "source": []
  }
 ],
 "metadata": {
  "kernelspec": {
   "display_name": "Python 3",
   "language": "python",
   "name": "python3"
  },
  "language_info": {
   "codemirror_mode": {
    "name": "ipython",
    "version": 3
   },
   "file_extension": ".py",
   "mimetype": "text/x-python",
   "name": "python",
   "nbconvert_exporter": "python",
   "pygments_lexer": "ipython3",
   "version": "3.6.5"
  }
 },
 "nbformat": 4,
 "nbformat_minor": 2
}
