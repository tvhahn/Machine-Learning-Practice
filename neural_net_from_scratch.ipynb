{
 "cells": [
  {
   "cell_type": "markdown",
   "metadata": {},
   "source": [
    "# CISC 867 - Assignment 1\n",
    "## Question 1"
   ]
  },
  {
   "cell_type": "markdown",
   "metadata": {},
   "source": [
    "The partial derivative for a hidden weight $ w_{i,j}$ between the input $ x_{i}$ and the hidden unit $ h_{j}^{(1)}$."
   ]
  },
  {
   "cell_type": "markdown",
   "metadata": {},
   "source": [
    "Start by writing the general form for $ f(\\textbf{x})$ : <br />\n",
    "> $ f = \\sigma( \\textbf{h}^{(2)}( \\textbf{h}^{(1)})) $\n",
    "\n",
    "The values for $ \\textbf{h}^{(1)}$, $ \\textbf{h}^{(2)}$ and $ J$ (error term) are given by:\n",
    ">$ \\textbf{h}^{(1)} = \\sigma( \\textbf{W}^{(1)} \\textbf{x} + \\textbf{b}^{(1)})$ <br />\n",
    "$ \\textbf{h}^{(2)} = \\sigma( \\textbf{W}^{(2)} \\textbf{h}^{(1)} + \\textbf{b}^{(2})$ <br />\n",
    "$ J = (f-y)^{2}$\n",
    "\n",
    "Further expanding $f$: <br />\n",
    "> $ f = \\sigma( \\textbf{W}^{(3)} \\textbf{h}^{(1)} + \\textbf{b}^{(2)}) $ <br />\n",
    "\n",
    "Finding the partial derivative of $ J $ with respect to $\\textbf{W}^{(1)}$:\n",
    "> $ \\frac{\\partial J}{\\partial \\textbf{W}^{(1)}} = \\frac{\\partial(f-y)^{2}}{\\partial \\textbf{W}^{(1)}} =2(f-y) \\frac{\\partial f}{\\partial \\textbf{W}^{(1)}}$ <br />\n",
    "\n",
    "Use the chain rule to find $ \\frac{\\partial f}{\\partial \\textbf{W}^{(1)}}$. We know that $ \\sigma ' = \\sigma (1-\\sigma)$. Therefore:\n",
    "> $ = 2(f-y)f(1-f) \\frac{\\partial \\sum_{l=1}^{L} w_{l}^{(3)}h_{l}^{(2)}+b^{(3)}}{\\partial \\textbf{W}^{(1)}}$ <br />\n",
    "\n",
    "The derivative of the summation term (above) with respect to $\\textbf{W}^{(1)}$ is $\\textbf{W}^{(3)}$. Therefore: <br />\n",
    ">$ = 2(f-y)f(1-f) \\textbf{W}^{(3)} \\frac{\\partial \\textbf{h}^{(2)}}{\\partial \\textbf{W}^{(1)}}$\n",
    "\n",
    "Repeat to find the partial derivative of $ \\textbf{h}^{(2)}$:\n",
    ">$ = 2(f-y)f(1-f) \\textbf{W}^{(3)} \\textbf{h}^{(2)}(1-\\textbf{h}^{(2)}) \\frac{\\partial \\sum_{l=1}^{L} w_{l}^{(2)}h_{l}^{(1)}+b^{(2)}}{\\partial \\textbf{W}^{(1)}}$\n",
    "\n",
    "Again, the partial derivative of the summation (above) is $ \\textbf{W}^{(2)}$. Therefore:\n",
    ">$ = 2(f-y)f(1-f) \\textbf{W}^{(3)} \\textbf{h}^{(2)}(1-\\textbf{h}^{(2)})\\textbf{W}^{(2)} \\frac{\\partial \\textbf{h}^{(1)}}{\\partial \\textbf{W}^{(1)}}$\n",
    "\n",
    "The partial derivative of $ \\textbf{h}^{(1)}$:\n",
    ">$ = 2(f-y)f(1-f) \\textbf{W}^{(3)} \\textbf{h}^{(2)}(1-\\textbf{h}^{(2)})\\textbf{W}^{(2)} \\textbf{h}^{(1)}(1-\\textbf{h}^{(1)}) \\frac{\\partial \\sum_{n=1}^{N} w_{n,j}^{(2)}x_{n}^{(1)}+b_{j}}{\\partial \\textbf{W}^{(1)}}$\n",
    "\n",
    "The partial derivative of the sum (above) is simply $\\textbf{X}$:\n",
    ">$ = 2(f-y)f(1-f) \\textbf{W}^{(3)} \\textbf{h}^{(2)}(1-\\textbf{h}^{(2)})\\textbf{W}^{(2)} \\textbf{h}^{(1)}(1-\\textbf{h}^{(1)}) \\textbf{x}$\n",
    "\n",
    "Putting the above in the index notation yields:\n",
    ">$\\frac{\\partial J(\\textbf{x},y)}{\\partial w_{i,j}^{1}} = 2(f(\\textbf{x})-y)f(\\textbf{x})(1-f(\\textbf{x})) w_{j}^{3} h^{(2)}_{j}(1-h^{(2)}_{j})w_{j}^{2} h^{(1)}_{j}(1-h^{(1)}_{j}) x_{i}$"
   ]
  },
  {
   "cell_type": "markdown",
   "metadata": {},
   "source": [
    "## Question 2"
   ]
  },
  {
   "cell_type": "code",
   "execution_count": 1,
   "metadata": {},
   "outputs": [],
   "source": [
    "# Import packages\n",
    "import numpy as np\n",
    "import pandas as pd\n",
    "import matplotlib.pyplot as plt\n",
    "%matplotlib inline"
   ]
  },
  {
   "cell_type": "code",
   "execution_count": 2,
   "metadata": {},
   "outputs": [],
   "source": [
    "class Network:\n",
    "    \"Creates the architecture for a simple neural network with one hidden layer\"\n",
    "\n",
    "    def __init__(self, h_neurons=3, input_size=2, output_size=1, weight_size=None):\n",
    "        \"\"\"        \n",
    "        Parameters\n",
    "        ===========\n",
    "        h_neurons : integer\n",
    "            The number of neurons in the hidden layer. Defaults to 3\n",
    "        input_size : integer\n",
    "            The number of neurons in the input layer. Defaults to 2\n",
    "        output_size : integer\n",
    "            The number of neurons in the output layer. Defaults to 1\n",
    "        weight_size : float\n",
    "            If weight_size is specified, it initializes the weights and biases\n",
    "            to have a mean about the weight_size. Sigma = 1\n",
    "        \"\"\"\n",
    "        self.input_size = input_size\n",
    "        self.hidden_size = h_neurons\n",
    "        self.output_size = output_size\n",
    "        self.weight_size = weight_size\n",
    "\n",
    "        # Set weights and biases\n",
    "        # From numpy documentation: sigma * np.random.randn(...) + mu\n",
    "        if self.weight_size is None:\n",
    "\n",
    "            # Weights and biases set with sigma=1, mu=0\n",
    "            self.w1 = np.random.randn(self.hidden_size, self.input_size)\n",
    "            self.w2 = np.random.randn(self.hidden_size, self.output_size)\n",
    "            self.b1 = np.random.randn(self.hidden_size, 1)\n",
    "            self.b2 = np.random.randn(self.output_size, 1)\n",
    "\n",
    "        else:\n",
    "            self.w1 = (\n",
    "                np.random.randn(self.hidden_size, self.input_size) + self.weight_size\n",
    "            )\n",
    "            self.w2 = (\n",
    "                np.random.randn(self.hidden_size, self.output_size) + self.weight_size\n",
    "            )\n",
    "            self.b1 = np.random.randn(self.hidden_size, 1) + self.weight_size\n",
    "            self.b2 = np.random.randn(self.output_size, 1) + self.weight_size\n",
    "\n",
    "    # Sigmoid function\n",
    "    def sigmoid(self, z):\n",
    "        return 1.0 / (1.0 + np.exp(-z))\n",
    "\n",
    "    # Derivative of sigmoid function\n",
    "    def sigmoid_prime(self, z):\n",
    "        return self.sigmoid(z) * (1 - self.sigmoid(z))\n",
    "\n",
    "    # Forward propagation function\n",
    "    def forward(self, X):\n",
    "        # hidden layer\n",
    "        a1 = np.dot(self.w1, X) + self.b1\n",
    "        h1 = self.sigmoid(a1)\n",
    "\n",
    "        # output layer\n",
    "        a2 = np.dot(self.w2.T, h1) + self.b2\n",
    "        y_hat = self.sigmoid(a2)\n",
    "        return a1, h1, a2, y_hat\n",
    "\n",
    "    def train(self, X, y, learn_rate=0.5, epochs=10000):\n",
    "        \"\"\"Trains the neural network.\n",
    "        \n",
    "        Parameters\n",
    "        ===========\n",
    "        X : ndarray\n",
    "            The training data. For XOR, it should be in format:\n",
    "            X = np.array([[[1],[1]], [[0],[1]], [[1],[0]], [[0],[0]]])\n",
    "        y : ndarray\n",
    "            The testing data. For XOR, it should be in format:\n",
    "            y = np.array([0, 1, 1, 0])\n",
    "        learn_rate : float\n",
    "            The learning rate for the neural network. Defaults to 0.5\n",
    "        epochs : integer\n",
    "            The number of epochs to do training over. Defaults to 10000\n",
    "        \"\"\"\n",
    "        # Initialize the parameters\n",
    "        self.learn_rate = learn_rate\n",
    "        self.epochs = epochs\n",
    "\n",
    "        batch_size = len(y)  # determine size of each batch\n",
    "\n",
    "        # Initialize a bunch of lists so we can track some costs (error),\n",
    "        # activations, weights, and unit outputs\n",
    "        self.costs = []  # store the costs so they can be plotted\n",
    "        self.avg_w1 = []  # store average weights so they can be plotted\n",
    "        self.avg_dw1 = []  # store average gradients of weights\n",
    "        self.avg_db1 = []  # store average gradients of biases\n",
    "        self.a1s = []  # store average activations\n",
    "        self.a2s = []  # store average activations\n",
    "        self.h1s = []  # store output from hidden layer neurons\n",
    "\n",
    "        # Run through each of the epochs\n",
    "        for epoch in range(self.epochs):\n",
    "\n",
    "            # Set gradient matrices to \"zeros\" for each epoch\n",
    "            dw1 = np.zeros((self.hidden_size, self.input_size))\n",
    "            dw2 = np.zeros((self.hidden_size, self.output_size))\n",
    "            db1 = np.zeros((self.hidden_size, 1))\n",
    "            db2 = np.zeros((self.output_size, 1))\n",
    "\n",
    "            # record the average error (cost) across each sample in the epoch\n",
    "            self.epoch_error = np.empty([1, 1])\n",
    "\n",
    "            # lists to store things we want to plot later\n",
    "            a1_temp_list = []\n",
    "            a2_temp_list = []\n",
    "            h1_temp_list = []\n",
    "\n",
    "            # Iterate through each sample for the epoch\n",
    "            for s in range(batch_size):\n",
    "\n",
    "                # Forward propagation\n",
    "                a1, h1, a2, y_hat = self.forward(X[s])\n",
    "\n",
    "                # Append results from forward prop to temp lists\n",
    "                a1_temp_list.append(a1)\n",
    "                a2_temp_list.append(a2)\n",
    "                h1_temp_list.append(h1)\n",
    "\n",
    "                # Find the cost (squared error)\n",
    "                J = 0.5 * (y_hat - y[s]) ** 2\n",
    "                \n",
    "                # append to error array\n",
    "                self.epoch_error = np.append(\n",
    "                    self.epoch_error, J\n",
    "                )  \n",
    "\n",
    "                # Use backprop from output layer to hidden layer\n",
    "                g2 = y_hat - y[s]\n",
    "                dw2 += -g2 * h1\n",
    "                db2 += -g2\n",
    "\n",
    "                # Use backprop from hidden layer to input layer\n",
    "                g1 = -g2 * self.sigmoid_prime(h1) * self.w2\n",
    "                dw1 += np.dot(g1, X[s].T)\n",
    "                db1 += g1\n",
    "\n",
    "            # Append the values we want to plot from each epoch onto its corresponding list\n",
    "            self.avg_dw1.append(abs(np.mean(dw1)))\n",
    "            self.avg_w1.append(self.w1[0][0])\n",
    "            self.a1s.append(np.mean(a1_temp_list))\n",
    "            self.a2s.append(np.mean(a2_temp_list))\n",
    "            self.h1s.append(np.mean(h1_temp_list))\n",
    "            self.costs.append(np.mean(np.delete(self.epoch_error, 0)))\n",
    "\n",
    "            # Update the weights\n",
    "            self.w1 += dw1 * self.learn_rate / batch_size\n",
    "            self.w2 += dw2 * self.learn_rate / batch_size\n",
    "            self.b1 += db1 * self.learn_rate / batch_size\n",
    "            self.b2 += db2 * self.learn_rate / batch_size\n",
    "\n",
    "    def predict(self, X, y):\n",
    "        \"\"\"Function to predict the results after network has been trained\"\"\"\n",
    "\n",
    "        r = []  # row labels\n",
    "        pred = []  # store predictions\n",
    "        true_val = []  # store true values\n",
    "        abs_error = []  # store absolute error terms\n",
    "\n",
    "        # for each sample test the results\n",
    "        for s in range(len(X)):\n",
    "            a1, h1, a2, y_hat = self.forward(X[s])\n",
    "            pred.append(y_hat[0][0])\n",
    "            true_val.append(y[s])\n",
    "            abs_error.append(abs(y[s] - y_hat[0][0]))\n",
    "            r.append(f\"({int(X[s][0])} {int(X[s][1])})\")\n",
    "\n",
    "        # Create a pandas data-frame to nicely visualize results\n",
    "        df = pd.DataFrame(\n",
    "            [true_val, pred, abs_error],\n",
    "            columns=r,\n",
    "            index=[\"True Value\", \"Prediction\", \"Absolute Error\"],\n",
    "        ).T\n",
    "        return df\n",
    "\n",
    "    def error_chart(self):\n",
    "        \"\"\"Plot the errors over each epoch\"\"\"\n",
    "        fig, ax = plt.subplots()\n",
    "        ax.plot(self.costs)\n",
    "        ax.set(\n",
    "            xlabel=\"Epochs\", ylabel=\"Squared Error\", title=\"Error vs. Number of Epochs\"\n",
    "        )\n",
    "\n",
    "        return plt\n",
    "\n",
    "    def activation_chart(self):\n",
    "        \"\"\"Plot the activations (net-inputs)\"\"\"\n",
    "        fig, ax = plt.subplots()\n",
    "        ax.plot(self.a2s, label=\"Activation to output layer, a2\")\n",
    "        ax.plot(self.a1s, label=\"Activation to hidden neurons, a1\")\n",
    "\n",
    "        ax.set(\n",
    "            xlabel=\"Epochs\",\n",
    "            ylabel=\"Average Value of Activations\",\n",
    "            title=\"Average Values for Activations (Net Inputs) vs. Number of Epochs\",\n",
    "        )\n",
    "        ax.legend()\n",
    "\n",
    "        return plt"
   ]
  },
  {
   "cell_type": "markdown",
   "metadata": {},
   "source": [
    "Test the neural network on the XOR problem. We'll create a network with 5 hidden neurons. The learning rate will be set to 0.5 and we'll train our network over 10,000 epochs. Weights and biases will be randomly generated. <br />\n",
    "\n",
    "A plot of the squared error versus the number of epochs will be shown to see if the neural network learned."
   ]
  },
  {
   "cell_type": "code",
   "execution_count": 3,
   "metadata": {},
   "outputs": [
    {
     "data": {
      "image/png": "[encoded data removed]",
      "text/plain": [
       "<Figure size 432x288 with 1 Axes>"
      ]
     },
     "metadata": {
      "needs_background": "light"
     },
     "output_type": "display_data"
    }
   ],
   "source": [
    "# Set seed so that results can be replicated\n",
    "np.random.seed(seed=4)\n",
    "\n",
    "# Train data\n",
    "X_train = np.array([[[1],[1]], [[0],[1]], [[1],[0]], [[0],[0]]], dtype=float)\n",
    "y_train = np.array([0, 1, 1, 0], dtype=float)\n",
    "\n",
    "# Initialize network\n",
    "nn1 = Network(h_neurons=5)\n",
    "\n",
    "# Train the network\n",
    "nn1.train(X_train, y_train, learn_rate=0.5, epochs=10000)\n",
    "\n",
    "# Print the error vs. number of epoch chart\n",
    "nn1.error_chart().show()"
   ]
  },
  {
   "cell_type": "markdown",
   "metadata": {},
   "source": [
    "It appears that the network has learned! <br />\n",
    "\n",
    "Now let's print out some predictions."
   ]
  },
  {
   "cell_type": "code",
   "execution_count": 4,
   "metadata": {},
   "outputs": [
    {
     "data": {
      "text/html": [
       "<div>\n",
       "<style scoped>\n",
       "    .dataframe tbody tr th:only-of-type {\n",
       "        vertical-align: middle;\n",
       "    }\n",
       "\n",
       "    .dataframe tbody tr th {\n",
       "        vertical-align: top;\n",
       "    }\n",
       "\n",
       "    .dataframe thead th {\n",
       "        text-align: right;\n",
       "    }\n",
       "</style>\n",
       "<table border=\"1\" class=\"dataframe\">\n",
       "  <thead>\n",
       "    <tr style=\"text-align: right;\">\n",
       "      <th></th>\n",
       "      <th>True Value</th>\n",
       "      <th>Prediction</th>\n",
       "      <th>Absolute Error</th>\n",
       "    </tr>\n",
       "  </thead>\n",
       "  <tbody>\n",
       "    <tr>\n",
       "      <th>(0 1)</th>\n",
       "      <td>1.0</td>\n",
       "      <td>0.978185</td>\n",
       "      <td>0.021815</td>\n",
       "    </tr>\n",
       "    <tr>\n",
       "      <th>(1 1)</th>\n",
       "      <td>0.0</td>\n",
       "      <td>0.024083</td>\n",
       "      <td>0.024083</td>\n",
       "    </tr>\n",
       "    <tr>\n",
       "      <th>(0 0)</th>\n",
       "      <td>0.0</td>\n",
       "      <td>0.019522</td>\n",
       "      <td>0.019522</td>\n",
       "    </tr>\n",
       "    <tr>\n",
       "      <th>(1 0)</th>\n",
       "      <td>1.0</td>\n",
       "      <td>0.978271</td>\n",
       "      <td>0.021729</td>\n",
       "    </tr>\n",
       "  </tbody>\n",
       "</table>\n",
       "</div>"
      ],
      "text/plain": [
       "       True Value  Prediction  Absolute Error\n",
       "(0 1)         1.0    0.978185        0.021815\n",
       "(1 1)         0.0    0.024083        0.024083\n",
       "(0 0)         0.0    0.019522        0.019522\n",
       "(1 0)         1.0    0.978271        0.021729"
      ]
     },
     "execution_count": 4,
     "metadata": {},
     "output_type": "execute_result"
    }
   ],
   "source": [
    "# Test data\n",
    "X_test = np.array([[[0],[1]], [[1],[1]], [[0],[0]], [[1],[0]]], dtype=float)\n",
    "y_test = np.array([1, 0, 0, 1], dtype=float)\n",
    "\n",
    "# See if our predictions or good. Print out the prediction table.\n",
    "p = nn1.predict(X_test,y_test)\n",
    "p"
   ]
  },
  {
   "cell_type": "markdown",
   "metadata": {},
   "source": [
    "Looks like our network has trained well! The error for each training example is low."
   ]
  },
  {
   "cell_type": "markdown",
   "metadata": {},
   "source": [
    "## Question 3"
   ]
  },
  {
   "cell_type": "markdown",
   "metadata": {},
   "source": [
    "Now we want to play with weights and see what happens when we make them to be very large. We'll initialize the weights and biases to be around 20. "
   ]
  },
  {
   "cell_type": "code",
   "execution_count": 5,
   "metadata": {},
   "outputs": [
    {
     "data": {
      "image/png": "[encoded data removed]",
      "text/plain": [
       "<Figure size 432x288 with 1 Axes>"
      ]
     },
     "metadata": {
      "needs_background": "light"
     },
     "output_type": "display_data"
    },
    {
     "data": {
      "text/html": [
       "<div>\n",
       "<style scoped>\n",
       "    .dataframe tbody tr th:only-of-type {\n",
       "        vertical-align: middle;\n",
       "    }\n",
       "\n",
       "    .dataframe tbody tr th {\n",
       "        vertical-align: top;\n",
       "    }\n",
       "\n",
       "    .dataframe thead th {\n",
       "        text-align: right;\n",
       "    }\n",
       "</style>\n",
       "<table border=\"1\" class=\"dataframe\">\n",
       "  <thead>\n",
       "    <tr style=\"text-align: right;\">\n",
       "      <th></th>\n",
       "      <th>True Value</th>\n",
       "      <th>Prediction</th>\n",
       "      <th>Absolute Error</th>\n",
       "    </tr>\n",
       "  </thead>\n",
       "  <tbody>\n",
       "    <tr>\n",
       "      <th>(1 1)</th>\n",
       "      <td>0.0</td>\n",
       "      <td>0.5</td>\n",
       "      <td>0.5</td>\n",
       "    </tr>\n",
       "    <tr>\n",
       "      <th>(0 1)</th>\n",
       "      <td>1.0</td>\n",
       "      <td>0.5</td>\n",
       "      <td>0.5</td>\n",
       "    </tr>\n",
       "    <tr>\n",
       "      <th>(1 0)</th>\n",
       "      <td>1.0</td>\n",
       "      <td>0.5</td>\n",
       "      <td>0.5</td>\n",
       "    </tr>\n",
       "    <tr>\n",
       "      <th>(0 0)</th>\n",
       "      <td>0.0</td>\n",
       "      <td>0.5</td>\n",
       "      <td>0.5</td>\n",
       "    </tr>\n",
       "  </tbody>\n",
       "</table>\n",
       "</div>"
      ],
      "text/plain": [
       "       True Value  Prediction  Absolute Error\n",
       "(1 1)         0.0         0.5             0.5\n",
       "(0 1)         1.0         0.5             0.5\n",
       "(1 0)         1.0         0.5             0.5\n",
       "(0 0)         0.0         0.5             0.5"
      ]
     },
     "execution_count": 5,
     "metadata": {},
     "output_type": "execute_result"
    }
   ],
   "source": [
    "# Set seed so that results can be replicated\n",
    "np.random.seed(seed=1)\n",
    "\n",
    "# Train data\n",
    "X_train = np.array([[[1],[1]], [[0],[1]], [[1],[0]], [[0],[0]]], dtype=float)\n",
    "y_train = np.array([0, 1, 1, 0], dtype=float)\n",
    "\n",
    "# Initialize network. The size of the weights will be around 20\n",
    "nn2 = Network(h_neurons=5, weight_size=20)\n",
    "\n",
    "# Train the network\n",
    "nn2.train(X_train, y_train, learn_rate=0.5, epochs=10000)\n",
    "\n",
    "# Print the error vs. number of epoch chart and show the predictions\n",
    "nn2.error_chart().show()\n",
    "p = nn2.predict(X_train,y_train)\n",
    "p"
   ]
  },
  {
   "cell_type": "markdown",
   "metadata": {},
   "source": [
    "Yikes - terrible predictions! Looks like the neural network did not learn. <br />\n",
    "\n",
    "Let's see what some of the inputs and outputs to the neurons are like."
   ]
  },
  {
   "cell_type": "code",
   "execution_count": 6,
   "metadata": {},
   "outputs": [
    {
     "data": {
      "image/png": "[encoded data removed]",
      "text/plain": [
       "<Figure size 432x288 with 1 Axes>"
      ]
     },
     "metadata": {
      "needs_background": "light"
     },
     "output_type": "display_data"
    }
   ],
   "source": [
    "# Print the net inputs and outputs vs epochs chart, and the error chart\n",
    "nn2.activation_chart().show()"
   ]
  },
  {
   "cell_type": "markdown",
   "metadata": {},
   "source": [
    "Clearly, after around 100 epochs, the activation values to the hidden neurons get very large. The activation to the output layer -- to $f(\\textbf{x})$ -- gets very small (about zero). <br />\n",
    "\n",
    "To confirm that the activation to the output layer is around zero, let's take a mean over the last 8000 epochs for each:"
   ]
  },
  {
   "cell_type": "code",
   "execution_count": 7,
   "metadata": {},
   "outputs": [
    {
     "name": "stdout",
     "output_type": "stream",
     "text": [
      "Mean for the activation to output layer for last 8000 epochs: -5.614739737354599e-17\n"
     ]
    }
   ],
   "source": [
    "print(\"Mean for the activation to output layer for last 8000 epochs:\", np.mean(nn2.a2s[2000:]))"
   ]
  },
  {
   "cell_type": "markdown",
   "metadata": {},
   "source": [
    "The value is very small. Let's run the same initialization, but stop the training after 100 epochs so we can get a better view of the activations."
   ]
  },
  {
   "cell_type": "code",
   "execution_count": 8,
   "metadata": {},
   "outputs": [
    {
     "data": {
      "image/png": "[encoded data removed]",
      "text/plain": [
       "<Figure size 432x288 with 1 Axes>"
      ]
     },
     "metadata": {
      "needs_background": "light"
     },
     "output_type": "display_data"
    },
    {
     "data": {
      "image/png": "[encoded data removed]",
      "text/plain": [
       "<Figure size 432x288 with 1 Axes>"
      ]
     },
     "metadata": {
      "needs_background": "light"
     },
     "output_type": "display_data"
    }
   ],
   "source": [
    "# Set seed so that results can be replicated\n",
    "np.random.seed(seed=1)\n",
    "nn2 = Network(h_neurons=5, weight_size=20)\n",
    "nn2.train(X_train, y_train, learn_rate=0.5, epochs=100)\n",
    "\n",
    "# Print the net inputs and outputs vs epochs chart, and the error chart\n",
    "nn2.activation_chart().show()\n",
    "nn2.error_chart().show()"
   ]
  },
  {
   "cell_type": "markdown",
   "metadata": {},
   "source": [
    "What is happening here, and why the neural network is not training, is that activations going into the sigmoid \"squashing\" function (and its derivative) are very large (in absolute terms) at all points in time. Either the activation going to the hidden neurons is large or the activation going to the output layer is large. <br />\n",
    "\n",
    "At large values, the sigmoid and sigmoid prime functions are very flat. If we give these function large values (due to large weights) then there is no-to-little gradient -- the functions are said to be \"saturated\". Without a sufficient gradient our neural network cannot learn through back propogation."
   ]
  }
 ],
 "metadata": {
  "kernelspec": {
   "display_name": "Python 3",
   "language": "python",
   "name": "python3"
  },
  "language_info": {
   "codemirror_mode": {
    "name": "ipython",
    "version": 3
   },
   "file_extension": ".py",
   "mimetype": "text/x-python",
   "name": "python",
   "nbconvert_exporter": "python",
   "pygments_lexer": "ipython3",
   "version": "3.7.3"
  }
 },
 "nbformat": 4,
 "nbformat_minor": 2
}
