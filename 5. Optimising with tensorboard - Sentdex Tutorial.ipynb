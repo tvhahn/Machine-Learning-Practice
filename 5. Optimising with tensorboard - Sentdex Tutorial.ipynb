{
 "cells": [
  {
   "cell_type": "markdown",
   "metadata": {},
   "source": [
    "https://youtu.be/lV09_8432VA\n",
    "\n",
    "Playlist from Sentdex: https://www.youtube.com/watch?v=j-3vuBynnOE&list=PLQVvvaa0QuDfhTox0AjmQ6tvTgMBZBEXN&index=2"
   ]
  },
  {
   "cell_type": "code",
   "execution_count": 4,
   "metadata": {},
   "outputs": [],
   "source": [
    "import tensorflow as tf\n",
    "from tensorflow.keras.datasets import cifar10\n",
    "from tensorflow.keras.models import Sequential\n",
    "from tensorflow.keras.layers import Dense, Dropout, Activation, Flatten, Conv2D, MaxPooling2D\n",
    "from tensorflow.keras.callbacks import TensorBoard\n",
    "import pickle\n",
    "import time\n",
    "%matplotlib inline\n"
   ]
  },
  {
   "cell_type": "code",
   "execution_count": 12,
   "metadata": {},
   "outputs": [
    {
     "name": "stdout",
     "output_type": "stream",
     "text": [
      "3-conv-32-nodes-0-dense-1551462628\n",
      "Train on 17462 samples, validate on 7484 samples\n",
      "Epoch 1/20\n",
      "17462/17462 [==============================] - 4s 255us/step - loss: 0.6562 - acc: 0.6021 - val_loss: 0.6018 - val_acc: 0.6804\n",
      "Epoch 2/20\n",
      "17462/17462 [==============================] - 4s 214us/step - loss: 0.5701 - acc: 0.7028 - val_loss: 0.5732 - val_acc: 0.6998\n",
      "Epoch 3/20\n",
      "17462/17462 [==============================] - 4s 216us/step - loss: 0.5110 - acc: 0.7505 - val_loss: 0.5091 - val_acc: 0.7557\n",
      "Epoch 4/20\n",
      "17462/17462 [==============================] - 4s 225us/step - loss: 0.4779 - acc: 0.7721 - val_loss: 0.5042 - val_acc: 0.7607\n",
      "Epoch 5/20\n",
      "17462/17462 [==============================] - 4s 231us/step - loss: 0.4584 - acc: 0.7827 - val_loss: 0.4905 - val_acc: 0.7606\n",
      "Epoch 6/20\n",
      "17462/17462 [==============================] - 4s 210us/step - loss: 0.4338 - acc: 0.8001 - val_loss: 0.4547 - val_acc: 0.7857\n",
      "Epoch 7/20\n",
      "17462/17462 [==============================] - 4s 226us/step - loss: 0.4110 - acc: 0.8123 - val_loss: 0.4460 - val_acc: 0.7934\n",
      "Epoch 8/20\n",
      "17462/17462 [==============================] - 4s 212us/step - loss: 0.3946 - acc: 0.8217 - val_loss: 0.4441 - val_acc: 0.7958\n",
      "Epoch 9/20\n",
      "17462/17462 [==============================] - 4s 214us/step - loss: 0.3754 - acc: 0.8327 - val_loss: 0.4126 - val_acc: 0.8089\n",
      "Epoch 10/20\n",
      "17462/17462 [==============================] - 4s 246us/step - loss: 0.3574 - acc: 0.8412 - val_loss: 0.4234 - val_acc: 0.8069\n",
      "Epoch 11/20\n",
      "17462/17462 [==============================] - 4s 218us/step - loss: 0.3440 - acc: 0.8488 - val_loss: 0.4473 - val_acc: 0.7933\n",
      "Epoch 12/20\n",
      "17462/17462 [==============================] - 4s 209us/step - loss: 0.3271 - acc: 0.8583 - val_loss: 0.4198 - val_acc: 0.8091\n",
      "Epoch 13/20\n",
      "17462/17462 [==============================] - 4s 210us/step - loss: 0.3164 - acc: 0.8634 - val_loss: 0.4312 - val_acc: 0.8119\n",
      "Epoch 14/20\n",
      "17462/17462 [==============================] - 4s 215us/step - loss: 0.3000 - acc: 0.8728 - val_loss: 0.4174 - val_acc: 0.8222\n",
      "Epoch 15/20\n",
      "17462/17462 [==============================] - 4s 215us/step - loss: 0.2842 - acc: 0.8770 - val_loss: 0.4424 - val_acc: 0.8006\n",
      "Epoch 16/20\n",
      "17462/17462 [==============================] - 4s 206us/step - loss: 0.2744 - acc: 0.8843 - val_loss: 0.4350 - val_acc: 0.8076\n",
      "Epoch 17/20\n",
      "17462/17462 [==============================] - 4s 234us/step - loss: 0.2613 - acc: 0.8899 - val_loss: 0.4196 - val_acc: 0.8232\n",
      "Epoch 18/20\n",
      "17462/17462 [==============================] - 4s 237us/step - loss: 0.2507 - acc: 0.8935 - val_loss: 0.4270 - val_acc: 0.8207\n",
      "Epoch 19/20\n",
      "17462/17462 [==============================] - 4s 218us/step - loss: 0.2339 - acc: 0.9042 - val_loss: 0.4510 - val_acc: 0.8197\n",
      "Epoch 20/20\n",
      "17462/17462 [==============================] - 4s 218us/step - loss: 0.2227 - acc: 0.9092 - val_loss: 0.5462 - val_acc: 0.7924\n"
     ]
    }
   ],
   "source": [
    "\n",
    "\n",
    "pickle_X = open(\"/home/tim/Documents/Data/X.pickle\",\"rb\")\n",
    "X = pickle.load(pickle_X)\n",
    "\n",
    "pickle_y = open(\"/home/tim/Documents/Data/y.pickle\",\"rb\")\n",
    "y = pickle.load(pickle_y)\n",
    "\n",
    "X = X/255.0\n",
    "\n",
    "# Run 1\n",
    "# dense_layers = [0, 1, 2]\n",
    "# layer_sizes =  [32, 64, 128]\n",
    "# conv_layers = [1, 2, 3]\n",
    "\n",
    "# Run 2\n",
    "dense_layers = [0]\n",
    "layer_sizes = [32]\n",
    "conv_layers = [3]\n",
    "\n",
    "for dense_layer in dense_layers:\n",
    "    for layer_size in layer_sizes:\n",
    "        for conv_layer in conv_layers:\n",
    "            NAME = \"{}-conv-{}-nodes-{}-dense-{}\".format(conv_layer, layer_size, \n",
    "                                                         dense_layer, int(time.time()))\n",
    "            tensorbard = TensorBoard(log_dir='logs/{}'.format(NAME))\n",
    "            print(NAME)\n",
    "\n",
    "            model = Sequential()\n",
    "            \n",
    "            model.add(  Conv2D(layer_size, (3,3), input_shape = X.shape[1:])  )\n",
    "            model.add(Activation(\"relu\"))\n",
    "            model.add(MaxPooling2D(pool_size=(2,2)))\n",
    "\n",
    "            for l in range(conv_layer-1):\n",
    "                \n",
    "                model.add(  Conv2D(layer_size, (3,3))  )\n",
    "                model.add(Activation(\"relu\"))\n",
    "                model.add(MaxPooling2D(pool_size=(2,2)))\n",
    "\n",
    "            model.add(Flatten()) # converts our 3D feature maps into 1D feature vectors\n",
    "            for l in range(dense_layer):\n",
    "                model.add(Dense(512))\n",
    "                model.add(Activation(\"relu\"))\n",
    "                model.add(Dropout(0.2))\n",
    "            \n",
    "\n",
    "            model.add(Dense(1))\n",
    "            model.add(Activation('sigmoid'))\n",
    "\n",
    "            model.compile(loss=\"binary_crossentropy\",\n",
    "                         optimizer=\"adam\",\n",
    "                         metrics=['accuracy'])\n",
    "\n",
    "            model.fit(X, y, batch_size=32, epochs=20, validation_split=0.3, callbacks=[tensorbard],verbose=1)\n",
    "            \n",
    "model.save('32x3-CNN.model')"
   ]
  },
  {
   "cell_type": "markdown",
   "metadata": {},
   "source": [
    "tensorboard --loir=logs/"
   ]
  },
  {
   "cell_type": "code",
   "execution_count": null,
   "metadata": {},
   "outputs": [],
   "source": []
  }
 ],
 "metadata": {
  "kernelspec": {
   "display_name": "Python 3",
   "language": "python",
   "name": "python3"
  },
  "language_info": {
   "codemirror_mode": {
    "name": "ipython",
    "version": 3
   },
   "file_extension": ".py",
   "mimetype": "text/x-python",
   "name": "python",
   "nbconvert_exporter": "python",
   "pygments_lexer": "ipython3",
   "version": "3.6.8"
  }
 },
 "nbformat": 4,
 "nbformat_minor": 2
}
