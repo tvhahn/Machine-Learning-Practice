{
 "cells": [
  {
   "cell_type": "markdown",
   "metadata": {},
   "source": [
    "https://youtu.be/WvoLTXIjBYU\n",
    "\n",
    "Playlist from Sentdex: https://www.youtube.com/watch?v=j-3vuBynnOE&list=PLQVvvaa0QuDfhTox0AjmQ6tvTgMBZBEXN&index=2"
   ]
  },
  {
   "cell_type": "code",
   "execution_count": 1,
   "metadata": {},
   "outputs": [
    {
     "name": "stdout",
     "output_type": "stream",
     "text": [
      "Train on 22451 samples, validate on 2495 samples\n",
      "Epoch 1/10\n",
      "22451/22451 [==============================] - 9s 406us/step - loss: 0.6154 - acc: 0.6585 - val_loss: 0.5212 - val_acc: 0.7527\n",
      "Epoch 2/10\n",
      "22451/22451 [==============================] - 5s 242us/step - loss: 0.5240 - acc: 0.7411 - val_loss: 0.4841 - val_acc: 0.7683\n",
      "Epoch 3/10\n",
      "22451/22451 [==============================] - 5s 245us/step - loss: 0.4839 - acc: 0.7695 - val_loss: 0.4594 - val_acc: 0.7880\n",
      "Epoch 4/10\n",
      "22451/22451 [==============================] - 5s 242us/step - loss: 0.4521 - acc: 0.7866 - val_loss: 0.4394 - val_acc: 0.7976\n",
      "Epoch 5/10\n",
      "22451/22451 [==============================] - 5s 244us/step - loss: 0.4228 - acc: 0.8052 - val_loss: 0.4290 - val_acc: 0.8004\n",
      "Epoch 6/10\n",
      "22451/22451 [==============================] - 5s 240us/step - loss: 0.4001 - acc: 0.8176 - val_loss: 0.4633 - val_acc: 0.7812\n",
      "Epoch 7/10\n",
      "22451/22451 [==============================] - 5s 238us/step - loss: 0.3798 - acc: 0.8282 - val_loss: 0.4445 - val_acc: 0.7944\n",
      "Epoch 8/10\n",
      "22451/22451 [==============================] - 5s 242us/step - loss: 0.3545 - acc: 0.8422 - val_loss: 0.4151 - val_acc: 0.8112\n",
      "Epoch 9/10\n",
      "22451/22451 [==============================] - 5s 242us/step - loss: 0.3338 - acc: 0.8535 - val_loss: 0.4355 - val_acc: 0.8060\n",
      "Epoch 10/10\n",
      "22451/22451 [==============================] - 6s 248us/step - loss: 0.3225 - acc: 0.8582 - val_loss: 0.4346 - val_acc: 0.8024\n"
     ]
    },
    {
     "data": {
      "text/plain": [
       "<tensorflow.python.keras.callbacks.History at 0x7f68e416bbe0>"
      ]
     },
     "execution_count": 1,
     "metadata": {},
     "output_type": "execute_result"
    }
   ],
   "source": [
    "import tensorflow as tf\n",
    "from tensorflow.keras.datasets import cifar10\n",
    "from tensorflow.keras.models import Sequential\n",
    "from tensorflow.keras.layers import Dense, Dropout, Activation, Flatten, Conv2D, MaxPooling2D\n",
    "import pickle\n",
    "%matplotlib inline\n",
    "\n",
    "pickle_X = open(\"/home/tim/Documents/Data/X.pickle\",\"rb\")\n",
    "X = pickle.load(pickle_X)\n",
    "\n",
    "pickle_y = open(\"/home/tim/Documents/Data/y.pickle\",\"rb\")\n",
    "y = pickle.load(pickle_y)\n",
    "\n",
    "X = X/255.0\n",
    "\n",
    "model = Sequential()\n",
    "model.add(  Conv2D(64, (3,3), input_shape = X.shape[1:])  )\n",
    "model.add(Activation(\"relu\"))\n",
    "model.add(MaxPooling2D(pool_size=(2,2)))\n",
    "\n",
    "model.add(  Conv2D(64, (3,3))  )\n",
    "model.add(Activation(\"relu\"))\n",
    "model.add(MaxPooling2D(pool_size=(2,2)))\n",
    "\n",
    "model.add(Flatten())\n",
    "model.add(Dense(64))\n",
    "\n",
    "model.add(Dense(1))\n",
    "model.add(Activation('sigmoid'))\n",
    "\n",
    "model.compile(loss=\"binary_crossentropy\",\n",
    "             optimizer=\"adam\",\n",
    "             metrics=['accuracy'])\n",
    "\n",
    "model.fit(X, y, batch_size=32, epochs=10, validation_split=0.1)"
   ]
  },
  {
   "cell_type": "code",
   "execution_count": null,
   "metadata": {},
   "outputs": [],
   "source": []
  }
 ],
 "metadata": {
  "kernelspec": {
   "display_name": "Python 3",
   "language": "python",
   "name": "python3"
  },
  "language_info": {
   "codemirror_mode": {
    "name": "ipython",
    "version": 3
   },
   "file_extension": ".py",
   "mimetype": "text/x-python",
   "name": "python",
   "nbconvert_exporter": "python",
   "pygments_lexer": "ipython3",
   "version": "3.6.8"
  }
 },
 "nbformat": 4,
 "nbformat_minor": 2
}
