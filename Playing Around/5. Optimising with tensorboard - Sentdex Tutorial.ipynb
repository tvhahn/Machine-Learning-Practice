{
 "cells": [
  {
   "cell_type": "markdown",
   "metadata": {},
   "source": [
    "https://youtu.be/lV09_8432VA\n",
    "\n",
    "Playlist from Sentdex: https://www.youtube.com/watch?v=j-3vuBynnOE&list=PLQVvvaa0QuDfhTox0AjmQ6tvTgMBZBEXN&index=2"
   ]
  },
  {
   "cell_type": "code",
   "execution_count": 3,
   "metadata": {},
   "outputs": [],
   "source": [
    "import tensorflow as tf\n",
    "from tensorflow.keras.datasets import cifar10\n",
    "from tensorflow.keras.models import Sequential\n",
    "from tensorflow.keras.layers import Dense, Dropout, Activation, Flatten, Conv2D, MaxPooling2D\n",
    "from tensorflow.keras.callbacks import TensorBoard\n",
    "import pickle\n",
    "import time\n",
    "import pyarrow\n",
    "%matplotlib inline\n"
   ]
  },
  {
   "cell_type": "code",
   "execution_count": 4,
   "metadata": {},
   "outputs": [
    {
     "name": "stdout",
     "output_type": "stream",
     "text": [
      "3-conv-32-nodes-0-dense-1551541411\n",
      "Train on 17462 samples, validate on 7484 samples\n",
      "Epoch 1/20\n",
      "17462/17462 [==============================] - 5s 282us/step - loss: 0.6650 - acc: 0.5904 - val_loss: 0.6774 - val_acc: 0.5752\n",
      "Epoch 2/20\n",
      "17462/17462 [==============================] - 3s 177us/step - loss: 0.5856 - acc: 0.6890 - val_loss: 0.5823 - val_acc: 0.6971\n",
      "Epoch 3/20\n",
      "17462/17462 [==============================] - 3s 171us/step - loss: 0.5343 - acc: 0.7336 - val_loss: 0.5184 - val_acc: 0.7487\n",
      "Epoch 4/20\n",
      "17462/17462 [==============================] - 3s 175us/step - loss: 0.4997 - acc: 0.7580 - val_loss: 0.4844 - val_acc: 0.7707\n",
      "Epoch 5/20\n",
      "17462/17462 [==============================] - 3s 175us/step - loss: 0.4748 - acc: 0.7745 - val_loss: 0.4737 - val_acc: 0.7801\n",
      "Epoch 6/20\n",
      "17462/17462 [==============================] - 3s 173us/step - loss: 0.4535 - acc: 0.7888 - val_loss: 0.4633 - val_acc: 0.7801\n",
      "Epoch 7/20\n",
      "17462/17462 [==============================] - 3s 175us/step - loss: 0.4322 - acc: 0.7997 - val_loss: 0.4578 - val_acc: 0.7867\n",
      "Epoch 8/20\n",
      "17462/17462 [==============================] - 3s 175us/step - loss: 0.4132 - acc: 0.8148 - val_loss: 0.4454 - val_acc: 0.7969\n",
      "Epoch 9/20\n",
      "17462/17462 [==============================] - 3s 176us/step - loss: 0.3983 - acc: 0.8210 - val_loss: 0.4435 - val_acc: 0.7928\n",
      "Epoch 10/20\n",
      "17462/17462 [==============================] - 3s 171us/step - loss: 0.3809 - acc: 0.8295 - val_loss: 0.4530 - val_acc: 0.7965\n",
      "Epoch 11/20\n",
      "17462/17462 [==============================] - 3s 189us/step - loss: 0.3669 - acc: 0.8377 - val_loss: 0.4267 - val_acc: 0.8079\n",
      "Epoch 12/20\n",
      "17462/17462 [==============================] - 3s 166us/step - loss: 0.3533 - acc: 0.8441 - val_loss: 0.4163 - val_acc: 0.8128\n",
      "Epoch 13/20\n",
      "17462/17462 [==============================] - 3s 169us/step - loss: 0.3366 - acc: 0.8533 - val_loss: 0.4335 - val_acc: 0.8025\n",
      "Epoch 14/20\n",
      "17462/17462 [==============================] - 3s 170us/step - loss: 0.3298 - acc: 0.8525 - val_loss: 0.4409 - val_acc: 0.8060\n",
      "Epoch 15/20\n",
      "17462/17462 [==============================] - 3s 169us/step - loss: 0.3172 - acc: 0.8623 - val_loss: 0.4202 - val_acc: 0.8125\n",
      "Epoch 16/20\n",
      "17462/17462 [==============================] - 3s 166us/step - loss: 0.3021 - acc: 0.8708 - val_loss: 0.4727 - val_acc: 0.7968\n",
      "Epoch 17/20\n",
      "17462/17462 [==============================] - 3s 165us/step - loss: 0.2923 - acc: 0.8752 - val_loss: 0.4525 - val_acc: 0.8059\n",
      "Epoch 18/20\n",
      "17462/17462 [==============================] - 3s 167us/step - loss: 0.2831 - acc: 0.8799 - val_loss: 0.4730 - val_acc: 0.7916\n",
      "Epoch 19/20\n",
      "17462/17462 [==============================] - 3s 166us/step - loss: 0.2690 - acc: 0.8894 - val_loss: 0.4382 - val_acc: 0.8152\n",
      "Epoch 20/20\n",
      "17462/17462 [==============================] - 3s 170us/step - loss: 0.2600 - acc: 0.8900 - val_loss: 0.4822 - val_acc: 0.7978\n"
     ]
    }
   ],
   "source": [
    "\n",
    "\n",
    "pickle_X = open(\"/home/tim/Documents/Data/X.pickle\",\"rb\")\n",
    "X = pickle.load(pickle_X)\n",
    "\n",
    "pickle_y = open(\"/home/tim/Documents/Data/y.pickle\",\"rb\")\n",
    "y = pickle.load(pickle_y)\n",
    "\n",
    "X = X/255.0\n",
    "\n",
    "# Run 1\n",
    "# dense_layers = [0, 1, 2]\n",
    "# layer_sizes =  [32, 64, 128]\n",
    "# conv_layers = [1, 2, 3]\n",
    "\n",
    "# Run 2\n",
    "dense_layers = [0]\n",
    "layer_sizes = [32]\n",
    "conv_layers = [3]\n",
    "\n",
    "for dense_layer in dense_layers:\n",
    "    for layer_size in layer_sizes:\n",
    "        for conv_layer in conv_layers:\n",
    "            NAME = \"{}-conv-{}-nodes-{}-dense-{}\".format(conv_layer, layer_size, \n",
    "                                                         dense_layer, int(time.time()))\n",
    "            tensorbard = TensorBoard(log_dir='logs/{}'.format(NAME))\n",
    "            print(NAME)\n",
    "\n",
    "            model = Sequential()\n",
    "            \n",
    "            model.add(  Conv2D(layer_size, (3,3), input_shape = X.shape[1:])  )\n",
    "            model.add(Activation(\"relu\"))\n",
    "            model.add(MaxPooling2D(pool_size=(2,2)))\n",
    "\n",
    "            for l in range(conv_layer-1):\n",
    "                \n",
    "                model.add(  Conv2D(layer_size, (3,3))  )\n",
    "                model.add(Activation(\"relu\"))\n",
    "                model.add(MaxPooling2D(pool_size=(2,2)))\n",
    "\n",
    "            model.add(Flatten()) # converts our 3D feature maps into 1D feature vectors\n",
    "            for l in range(dense_layer):\n",
    "                model.add(Dense(512))\n",
    "                model.add(Activation(\"relu\"))\n",
    "                model.add(Dropout(0.2))\n",
    "            \n",
    "\n",
    "            model.add(Dense(1))\n",
    "            model.add(Activation('sigmoid'))\n",
    "\n",
    "            model.compile(loss=\"binary_crossentropy\",\n",
    "                         optimizer=\"adam\",\n",
    "                         metrics=['accuracy'])\n",
    "\n",
    "            model.fit(X, y, batch_size=32, epochs=20, validation_split=0.3, callbacks=[tensorbard],verbose=1)\n",
    "            \n",
    "model.save('32x3-CNN.model')"
   ]
  },
  {
   "cell_type": "markdown",
   "metadata": {},
   "source": [
    "tensorboard --loir=logs/"
   ]
  },
  {
   "cell_type": "code",
   "execution_count": null,
   "metadata": {},
   "outputs": [],
   "source": []
  }
 ],
 "metadata": {
  "kernelspec": {
   "display_name": "Python 3",
   "language": "python",
   "name": "python3"
  },
  "language_info": {
   "codemirror_mode": {
    "name": "ipython",
    "version": 3
   },
   "file_extension": ".py",
   "mimetype": "text/x-python",
   "name": "python",
   "nbconvert_exporter": "python",
   "pygments_lexer": "ipython3",
   "version": "3.6.8"
  }
 },
 "nbformat": 4,
 "nbformat_minor": 2
}
